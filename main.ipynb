{
 "cells": [
  {
   "cell_type": "code",
   "execution_count": null,
   "id": "f529ec13-2d5c-4962-b495-5e34da2094f2",
   "metadata": {},
   "outputs": [],
   "source": [
    "def EPI_dynamics(t,y,V_max_f_ABCDE,V_max_r_ABCDE,K_M_S_ABCDE,K_M_P_ABCDE,K_I_ABCDE):\n",
    "    # y[0] = Thr L-threonine\n",
    "    # y[1] = M1\n",
    "    # y[2] = M2\n",
    "    # y[3] = M3\n",
    "    # y[4] = M4\n",
    "    # y[5] = Ile Isoleucine\n",
    "    dydt = np.zeros(6)\n",
    "\n",
    "    I = y[5] #Isoleucine as inhibitor\n",
    "    \n",
    "    # enzyme rate laws\n",
    "    V = np.zeros(len(y)-1)\n",
    "    for i in range(len(y)-1):\n",
    "        S = y[i]\n",
    "        P = y[i+1]\n",
    "        V[i] = ((V_max_f_ABCDE[i]/K_M_S_ABCDE[i])*S-(V_max_r_ABCDE[i]/K_M_P_ABCDE[i])*P)/(1+S/K_M_S_ABCDE[i]+P/K_M_P_ABCDE[i]+I/K_I_ABCDE[i])\n",
    "        \n",
    "    #dydt[0] = -V[0] #dynamic substrate\n",
    "    dydt[0] = 0 #fixed substrate\n",
    "    dydt[1] = V[0]-V[1]\n",
    "    dydt[2] = V[1]-V[2]\n",
    "    dydt[3] = V[2]-V[3]\n",
    "    dydt[4] = V[3]-V[4]\n",
    "    dydt[5] = V[4]\n",
    "\n",
    "    return dydt"
   ]
  }
 ],
 "metadata": {
  "kernelspec": {
   "display_name": "Python 3 (ipykernel)",
   "language": "python",
   "name": "python3"
  },
  "language_info": {
   "codemirror_mode": {
    "name": "ipython",
    "version": 3
   },
   "file_extension": ".py",
   "mimetype": "text/x-python",
   "name": "python",
   "nbconvert_exporter": "python",
   "pygments_lexer": "ipython3",
   "version": "3.11.5"
  }
 },
 "nbformat": 4,
 "nbformat_minor": 5
}
